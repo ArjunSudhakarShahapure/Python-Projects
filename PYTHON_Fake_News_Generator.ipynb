{
  "nbformat": 4,
  "nbformat_minor": 0,
  "metadata": {
    "colab": {
      "provenance": []
    },
    "kernelspec": {
      "name": "python3",
      "display_name": "Python 3"
    },
    "language_info": {
      "name": "python"
    }
  },
  "cells": [
    {
      "cell_type": "markdown",
      "source": [
        "# **Fake News Generator**"
      ],
      "metadata": {
        "id": "a7WYfP3mWKZP"
      }
    },
    {
      "cell_type": "code",
      "source": [
        "import random as rd"
      ],
      "metadata": {
        "id": "CBsplWLuWJf_"
      },
      "execution_count": 3,
      "outputs": []
    },
    {
      "cell_type": "code",
      "source": [
        "subjects = ['Pakisthan weak economy ','India without politics','Nirmala Sitaraman','Jakhir khan','Arjun Shahapure','RIT','War','Salman Khan','Rajnikanth ','Upendra the director','Vote chor','A group of vote chor','The talking monkey']"
      ],
      "metadata": {
        "id": "G8qM2Q8YWJiX"
      },
      "execution_count": 19,
      "outputs": []
    },
    {
      "cell_type": "code",
      "source": [
        "actions=['launches','talks','walks','eats','swims','flies','declares','asks']"
      ],
      "metadata": {
        "id": "voDHvrcqWJkv"
      },
      "execution_count": 20,
      "outputs": []
    },
    {
      "cell_type": "code",
      "source": [
        "places=['Indian gate','Red fort','Agni kund','Lanka','Council Hall','Village','Mumbai','Under Water','China Gate']"
      ],
      "metadata": {
        "id": "3NWeXaarWJm-"
      },
      "execution_count": 21,
      "outputs": []
    },
    {
      "cell_type": "code",
      "source": [
        "while True:\n",
        "    subject = rd.choice(subjects)   # ✅ pick from the list\n",
        "    action = rd.choice(actions)\n",
        "    place = rd.choice(places)\n",
        "\n",
        "    headline = f\"BREAKING NEWS: {subject} {action} {place}\"\n",
        "    print(\"\\n\" + headline)\n",
        "\n",
        "    userinput = input(\"Do you want any other news headline? \").strip().lower()\n",
        "    if userinput == \"no\":\n",
        "        break\n",
        "\n",
        "print(\"Thanks for using fake news generator\")"
      ],
      "metadata": {
        "colab": {
          "base_uri": "https://localhost:8080/"
        },
        "id": "Ukh16xbZWJpW",
        "outputId": "7dff5a18-42d7-4c7e-ae66-0593c6598b9a"
      },
      "execution_count": 22,
      "outputs": [
        {
          "output_type": "stream",
          "name": "stdout",
          "text": [
            "\n",
            "BREAKING NEWS: Upendra the director talks Lanka\n",
            "Do you want any other news headline? yes\n",
            "\n",
            "BREAKING NEWS: War flies Council Hall\n",
            "Do you want any other news headline? no\n",
            "Thanks for using fake news generator\n"
          ]
        }
      ]
    },
    {
      "cell_type": "code",
      "source": [],
      "metadata": {
        "id": "ccwNw-2yWJsn"
      },
      "execution_count": null,
      "outputs": []
    }
  ]
}